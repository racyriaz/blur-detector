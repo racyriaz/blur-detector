{
 "cells": [
  {
   "cell_type": "markdown",
   "metadata": {},
   "source": [
    "# Hey there,  welcome to Method_2!"
   ]
  },
  {
   "cell_type": "markdown",
   "metadata": {},
   "source": [
    "###  **NOTE: This notebook is divided into two parts**\n",
    "\n",
    ">Part1- loading the dataset (X and y components) and saving them as pickle files\n",
    "\n",
    "Part2- Building CNN model and Evaluating its performance and metrics"
   ]
  },
  {
   "cell_type": "markdown",
   "metadata": {},
   "source": [
    "In the previous Notebook from Method_1 i.e.(SVM_and_logReg_OpenCV.ipynb), we saw our model predicting blurred images with help of Support Vector Machine and Logistic_regression.\n",
    "\n",
    "Here in this notebook we shall use Deep-Learning i.e. Convolution Neural Network(CNN) to predict our images"
   ]
  },
  {
   "cell_type": "markdown",
   "metadata": {},
   "source": [
    "Pre-requirements"
   ]
  },
  {
   "cell_type": "code",
   "execution_count": 1,
   "metadata": {},
   "outputs": [
    {
     "data": {
      "text/plain": [
       "'\\nmatplotlib\\ncv2 -> opencv2 for python 3\\npandas\\nseaborn\\npickle\\nTensorflow -> 2.3\\nsci-kit learn\\n'"
      ]
     },
     "execution_count": 1,
     "metadata": {},
     "output_type": "execute_result"
    }
   ],
   "source": [
    "'''\n",
    "matplotlib\n",
    "cv2 -> opencv2 for python 3\n",
    "pandas\n",
    "seaborn\n",
    "pickle\n",
    "Tensorflow -> 2.3\n",
    "sci-kit learn\n",
    "'''"
   ]
  },
  {
   "cell_type": "markdown",
   "metadata": {},
   "source": [
    "# Import Statements"
   ]
  },
  {
   "cell_type": "code",
   "execution_count": 2,
   "metadata": {},
   "outputs": [],
   "source": [
    "import numpy as np\n",
    "import matplotlib.pyplot as plt\n",
    "import cv2\n",
    "import pandas as pd\n",
    "import seaborn as sns\n",
    "from matplotlib.image import imread\n",
    "import os\n",
    "\n",
    "#to save X and y\n",
    "import pickle\n",
    "\n",
    "# will be used in Part_2_CNN\n",
    "'''\n",
    "# used for preprocessing the data\n",
    "from tensorflow.keras.preprocessing import image\n",
    "\n",
    "\n",
    "#used for model building\n",
    "import tensorflow as tf\n",
    "from tensorflow.keras.models import Sequential\n",
    "from tensorflow.keras.layers import Dense,Conv2D,MaxPool2D,Dropout,Flatten\n",
    "from tensorflow.keras.callbacks import EarlyStopping\n",
    "#from tensorflow.keras.optimizers import SGD\n",
    "from tensorflow.keras.utils import to_categorical\n",
    "\n",
    "#used for performance evaluation\n",
    "from sklearn.metrics import classification_report,confusion_matrix\n",
    "\n",
    "'''"
   ]
  },
  {
   "cell_type": "markdown",
   "metadata": {},
   "source": [
    "Setting up random seed to get same random numbers"
   ]
  },
  {
   "cell_type": "code",
   "execution_count": 3,
   "metadata": {},
   "outputs": [],
   "source": [
    "np.random.seed(seed=1)\n",
    "tf.random.set_seed(1)"
   ]
  },
  {
   "cell_type": "markdown",
   "metadata": {},
   "source": [
    "# Loading images "
   ]
  },
  {
   "cell_type": "markdown",
   "metadata": {},
   "source": [
    "Change the **filepath variable** only (location of your downloaded and unzipped data)"
   ]
  },
  {
   "cell_type": "code",
   "execution_count": 4,
   "metadata": {},
   "outputs": [],
   "source": [
    "#Enter the filepath of the unzipped folder \n",
    "filepath = r'E:/CERTH_ImageBlurDataset/CERTH_ImageBlurDataset/'\n",
    "#checking whats inside the folder CERTH_ImageBlurDataset\n",
    "os.listdir(filepath)\n",
    "\n",
    "#now lets get our train_path --> training data and test_path -> test data\n",
    "train_path = filepath+'TrainingSet/'\n",
    "#os.listdir(train_path) #to check whats inside this folder\n",
    "test_path = filepath+'EvaluationSet/'\n",
    "#os.listdir(test_path) #to check whats inside this folder\n",
    "\n",
    "art_blur = train_path + 'Artificially-Blurred/'\n",
    "nat_blur = train_path + 'Naturally-Blurred/'\n",
    "d_blur = train_path + 'NewDigitalBlur/'\n",
    "clear_pic = train_path + 'Undistorted/'\n",
    "#first_img = art_blur + os.listdir(art_blur)[0] # which is nothing but reading the first image from the directory\n",
    "#plt.imshow(imread(first_img))"
   ]
  },
  {
   "cell_type": "markdown",
   "metadata": {},
   "source": [
    "# Loading X_train and y_train"
   ]
  },
  {
   "cell_type": "code",
   "execution_count": 5,
   "metadata": {},
   "outputs": [],
   "source": [
    "X_train = []\n",
    "y_train = []\n",
    "input_size = (128,128)\n",
    "\n",
    "def loader(folderpath):\n",
    "    for filename in os.listdir(folderpath):\n",
    "        imagepath = folderpath + filename\n",
    "        img = image.load_img(imagepath, target_size = input_size)\n",
    "        # here we divide by 255 to scale the image and pass it as array\n",
    "        X_train.append((1/255)*np.asarray(img))\n",
    "        if folderpath == clear_pic:\n",
    "            y_train.append(0)    #clear image\n",
    "        else:\n",
    "            y_train.append(1)    #blured image\n",
    "    print('completed loading files from ... ' + folderpath)"
   ]
  },
  {
   "cell_type": "markdown",
   "metadata": {},
   "source": [
    "Loading the data from filepaths with a function"
   ]
  },
  {
   "cell_type": "code",
   "execution_count": 6,
   "metadata": {},
   "outputs": [
    {
     "name": "stdout",
     "output_type": "stream",
     "text": [
      "completed loading files from ... E:/CERTH_ImageBlurDataset/CERTH_ImageBlurDataset/TrainingSet/Artificially-Blurred/\n",
      "completed loading files from ... E:/CERTH_ImageBlurDataset/CERTH_ImageBlurDataset/TrainingSet/NewDigitalBlur/\n",
      "completed loading files from ... E:/CERTH_ImageBlurDataset/CERTH_ImageBlurDataset/TrainingSet/Naturally-Blurred/\n",
      "completed loading files from ... E:/CERTH_ImageBlurDataset/CERTH_ImageBlurDataset/TrainingSet/Undistorted/\n"
     ]
    }
   ],
   "source": [
    "loader(art_blur)\n",
    "loader(d_blur)\n",
    "loader(nat_blur)\n",
    "loader(clear_pic)"
   ]
  },
  {
   "cell_type": "markdown",
   "metadata": {},
   "source": [
    "Visualization of y_train data"
   ]
  },
  {
   "cell_type": "code",
   "execution_count": 7,
   "metadata": {},
   "outputs": [
    {
     "data": {
      "text/plain": [
       "<AxesSubplot:ylabel='count'>"
      ]
     },
     "execution_count": 7,
     "metadata": {},
     "output_type": "execute_result"
    },
    {
     "data": {
      "image/png": "[encoded data removed]",
      "text/plain": [
       "<Figure size 576x504 with 1 Axes>"
      ]
     },
     "metadata": {},
     "output_type": "display_data"
    }
   ],
   "source": [
    "sns.countplot(x=y_train)"
   ]
  },
  {
   "cell_type": "markdown",
   "metadata": {},
   "source": [
    "# Loading X_test and y_test + labeling them from the excel file"
   ]
  },
  {
   "cell_type": "code",
   "execution_count": 8,
   "metadata": {},
   "outputs": [],
   "source": [
    "X_test = []\n",
    "y_test = []\n",
    "d_file = test_path+'/DigitalBlurSet.xlsx'\n",
    "n_file = test_path+'/NaturalBlurSet.xlsx'\n",
    "digital_blur = pd.read_excel(d_file,names=['name','labels'])\n",
    "digital_blur['name'] = digital_blur.name.apply(lambda x : x.strip()) # to remove unwanted space in file names\n",
    "natural_blur = pd.read_excel(n_file,names=['name','labels'])\n",
    "natural_blur['name'] = natural_blur.name.apply(lambda x : x.strip())\n",
    "\n",
    "d_blur_test = test_path+'DigitalBlurSet/'\n",
    "nat_blur_test = test_path+'NaturalBlurSet/'"
   ]
  },
  {
   "cell_type": "code",
   "execution_count": 9,
   "metadata": {},
   "outputs": [
    {
     "name": "stdout",
     "output_type": "stream",
     "text": [
      "completed loading files from ... E:/CERTH_ImageBlurDataset/CERTH_ImageBlurDataset/EvaluationSet/DigitalBlurSet/\n",
      "completed loading files from ... E:/CERTH_ImageBlurDataset/CERTH_ImageBlurDataset/EvaluationSet/NaturalBlurSet/\n"
     ]
    }
   ],
   "source": [
    "#same function but uses X_test and y_test to load models\n",
    "folderpath = d_blur_test\n",
    "df = digital_blur\n",
    "for filename in os.listdir(folderpath):\n",
    "    imagepath = folderpath + filename\n",
    "    img = image.load_img(imagepath, target_size = input_size)\n",
    "    # here we divide by 255 to scale the image and pass it as array\n",
    "    X_test.append((1/255)*np.asarray(img))\n",
    "    blur = df[df['name'] == filename ].iloc[0]['labels']\n",
    "    if blur == 1:\n",
    "        y_test.append(1)     #artificial_blur\n",
    "    else:\n",
    "        y_test.append(0)    #clear\n",
    "print('completed loading files from ... ' + folderpath)\n",
    "\n",
    "folderpath = nat_blur_test\n",
    "df = natural_blur\n",
    "for filename in os.listdir(folderpath):\n",
    "    imagepath = folderpath + filename\n",
    "    img = image.load_img(imagepath, target_size = input_size)\n",
    "    # here we divide by 255 to scale the image and pass it as array\n",
    "    X_test.append((1/255)*np.asarray(img))\n",
    "    blur = df[df['name'] == filename.split('.')[0]].iloc[0]['labels']\n",
    "    if blur == 1:\n",
    "        y_test.append(1)    #natural_blur\n",
    "    else:\n",
    "        y_test.append(0)    #clear\n",
    "print('completed loading files from ... ' + folderpath)"
   ]
  },
  {
   "cell_type": "markdown",
   "metadata": {},
   "source": [
    "Visualizing Y_test data"
   ]
  },
  {
   "cell_type": "code",
   "execution_count": 10,
   "metadata": {},
   "outputs": [
    {
     "data": {
      "text/plain": [
       "<AxesSubplot:ylabel='count'>"
      ]
     },
     "execution_count": 10,
     "metadata": {},
     "output_type": "execute_result"
    },
    {
     "data": {
      "image/png": "[encoded data removed]",
      "text/plain": [
       "<Figure size 576x504 with 1 Axes>"
      ]
     },
     "metadata": {},
     "output_type": "display_data"
    }
   ],
   "source": [
    "sns.countplot(x=y_test)"
   ]
  },
  {
   "cell_type": "markdown",
   "metadata": {},
   "source": [
    "To save/dump X_train,X_text,y_train,y_test that will be used in part 2 of the code"
   ]
  },
  {
   "cell_type": "code",
   "execution_count": 11,
   "metadata": {},
   "outputs": [],
   "source": [
    "with open('X_train.pkl', 'wb') as picklefile:\n",
    "    pickle.dump(X_train, picklefile)\n",
    "with open('y_train.pkl', 'wb') as picklefile:\n",
    "    pickle.dump(y_train, picklefile)\n",
    "    \n",
    "with open('X_test.pkl', 'wb') as picklefile:\n",
    "    pickle.dump(X_test, picklefile)\n",
    "with open('y_test.pkl', 'wb') as picklefile:\n",
    "    pickle.dump(y_test, picklefile)"
   ]
  },
  {
   "cell_type": "markdown",
   "metadata": {},
   "source": [
    "### Havind saved our X_train,X_test,y_train,y_test as pickle files lets jump to our **Part_2_CNN notebook** to build our model and continue"
   ]
  },
  {
   "cell_type": "markdown",
   "metadata": {},
   "source": [
    "**By**\n",
    "> Mohamed Riaz (A data science and Machine Learning Aspirant)\n",
    "(riaz.offico@gmail.com | +91-7010233497)"
   ]
  }
 ],
 "metadata": {
  "kernelspec": {
   "display_name": "Python 3",
   "language": "python",
   "name": "python3"
  },
  "language_info": {
   "codemirror_mode": {
    "name": "ipython",
    "version": 3
   },
   "file_extension": ".py",
   "mimetype": "text/x-python",
   "name": "python",
   "nbconvert_exporter": "python",
   "pygments_lexer": "ipython3",
   "version": "3.6.12"
  },
  "latex_envs": {
   "LaTeX_envs_menu_present": true,
   "autoclose": false,
   "autocomplete": true,
   "bibliofile": "biblio.bib",
   "cite_by": "apalike",
   "current_citInitial": 1,
   "eqLabelWithNumbers": true,
   "eqNumInitial": 1,
   "hotkeys": {
    "equation": "Ctrl-E",
    "itemize": "Ctrl-I"
   },
   "labels_anchors": false,
   "latex_user_defs": false,
   "report_style_numbering": false,
   "user_envs_cfg": false
  }
 },
 "nbformat": 4,
 "nbformat_minor": 4
}
